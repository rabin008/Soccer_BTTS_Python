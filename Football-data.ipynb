{
 "cells": [
  {
   "cell_type": "code",
   "execution_count": 207,
   "id": "4ccd7de5-457d-49e4-8b91-85f5ebb80e75",
   "metadata": {},
   "outputs": [],
   "source": [
    "import requests\n",
    "import pandas as pd\n",
    "from datetime import datetime\n",
    "import numpy as np\n",
    "from sklearn.preprocessing import StandardScaler\n",
    "from sklearn.model_selection import train_test_split\n",
    "from sklearn.linear_model import LogisticRegression\n",
    "from sklearn.metrics import confusion_matrix"
   ]
  },
  {
   "cell_type": "code",
   "execution_count": 209,
   "id": "f0cfe160-bf26-47a3-8f7d-f4fcca7de971",
   "metadata": {},
   "outputs": [
    {
     "name": "stdout",
     "output_type": "stream",
     "text": [
      "Fetching data for season 2022...\n",
      "Fetching data for season 2023...\n",
      "Fetching data for season 2024...\n",
      "       id               utcDate    status  matchday           stage group  \\\n",
      "0  419288  2022-08-12T19:00:00Z  FINISHED         1  REGULAR_SEASON  None   \n",
      "1  419290  2022-08-13T15:00:00Z  FINISHED         1  REGULAR_SEASON  None   \n",
      "2  419285  2022-08-13T17:00:00Z  FINISHED         1  REGULAR_SEASON  None   \n",
      "3  419292  2022-08-13T19:00:00Z  FINISHED         1  REGULAR_SEASON  None   \n",
      "4  419289  2022-08-14T15:30:00Z  FINISHED         1  REGULAR_SEASON  None   \n",
      "\n",
      "            lastUpdated                                           referees  \\\n",
      "0  2023-05-31T08:20:43Z  [{'id': 43843, 'name': 'Carlos del Cerro', 'ty...   \n",
      "1  2023-05-31T08:20:43Z  [{'id': 171625, 'name': 'Miguel Ortiz', 'type'...   \n",
      "2  2023-05-31T08:20:43Z  [{'id': 56948, 'name': 'Mario Melero', 'type':...   \n",
      "3  2023-05-31T08:20:43Z  [{'id': 15625, 'name': 'Alejandro Hernández', ...   \n",
      "4  2023-05-31T08:20:43Z  [{'id': 57930, 'name': 'Isidro Díaz de Mera', ...   \n",
      "\n",
      "   area.id area.name  ... score.duration score.fullTime.home  \\\n",
      "0     2224     Spain  ...        REGULAR                 2.0   \n",
      "1     2224     Spain  ...        REGULAR                 2.0   \n",
      "2     2224     Spain  ...        REGULAR                 0.0   \n",
      "3     2224     Spain  ...        REGULAR                 0.0   \n",
      "4     2224     Spain  ...        REGULAR                 0.0   \n",
      "\n",
      "   score.fullTime.away score.halfTime.home score.halfTime.away  \\\n",
      "0                  1.0                 1.0                 1.0   \n",
      "1                  2.0                 1.0                 0.0   \n",
      "2                  3.0                 0.0                 0.0   \n",
      "3                  0.0                 0.0                 0.0   \n",
      "4                  1.0                 0.0                 1.0   \n",
      "\n",
      "                                            odds.msg score.regularTime.home  \\\n",
      "0  Activate Odds-Package in User-Panel to retriev...                    NaN   \n",
      "1  Activate Odds-Package in User-Panel to retriev...                    NaN   \n",
      "2  Activate Odds-Package in User-Panel to retriev...                    NaN   \n",
      "3  Activate Odds-Package in User-Panel to retriev...                    NaN   \n",
      "4  Activate Odds-Package in User-Panel to retriev...                    NaN   \n",
      "\n",
      "   score.regularTime.away score.extraTime.home score.extraTime.away  \n",
      "0                     NaN                  NaN                  NaN  \n",
      "1                     NaN                  NaN                  NaN  \n",
      "2                     NaN                  NaN                  NaN  \n",
      "3                     NaN                  NaN                  NaN  \n",
      "4                     NaN                  NaN                  NaN  \n",
      "\n",
      "[5 rows x 43 columns]\n"
     ]
    }
   ],
   "source": [
    "# Set your API key\n",
    "API_KEY = \"YOUR_API_KEY\"\n",
    "BASE_URL = \"https://api.football-data.org/v4/\"\n",
    "\n",
    "# Define headers\n",
    "headers = {\n",
    "    \"X-Auth-Token\": API_KEY\n",
    "}\n",
    "\n",
    "# Function to fetch matches for a specific season\n",
    "def fetch_matches(league_id, season):\n",
    "    url = f\"{BASE_URL}competitions/{league_id}/matches\"\n",
    "    params = {\"season\": season}\n",
    "    response = requests.get(url, headers=headers, params=params)\n",
    "    \n",
    "    if response.status_code == 200:\n",
    "        data = response.json()\n",
    "        return data[\"matches\"]\n",
    "    else:\n",
    "        print(f\"Error: {response.status_code}, {response.text}\")\n",
    "        return None\n",
    "\n",
    "# Fetch data for the last 10 seasons\n",
    "def fetch_last_10_seasons(league_id, start_season):\n",
    "    all_matches = []\n",
    "    current_year = datetime.now().year\n",
    "    \n",
    "    for season in range(start_season, current_year + 1):\n",
    "        print(f\"Fetching data for season {season}...\")\n",
    "        matches = fetch_matches(league_id, season)\n",
    "        if matches:\n",
    "            all_matches.extend(matches)\n",
    "    \n",
    "    return all_matches\n",
    "\n",
    "# Fetch La Liga data\n",
    "league_id = \"PD\"  # La Liga\n",
    "start_season = 2022  # Last 3 seasons start from 2022/23\n",
    "matches = fetch_last_10_seasons(league_id, start_season)\n",
    "\n",
    "# Convert to DataFrame\n",
    "if matches:\n",
    "    df = pd.json_normalize(matches)\n",
    "    print(df.head())"
   ]
  },
  {
   "cell_type": "code",
   "execution_count": 211,
   "id": "0e31c572-d025-4c3d-b7c9-a7d7e8be0b41",
   "metadata": {},
   "outputs": [
    {
     "name": "stdout",
     "output_type": "stream",
     "text": [
      "     id                           name\n",
      "0  2013  Campeonato Brasileiro Série A\n",
      "1  2016                   Championship\n",
      "2  2021                 Premier League\n",
      "3  2001          UEFA Champions League\n",
      "4  2018          European Championship\n"
     ]
    }
   ],
   "source": [
    "def fetch_competitions():\n",
    "    url = f\"{BASE_URL}competitions/\"\n",
    "    response = requests.get(url, headers=headers)\n",
    "    \n",
    "    if response.status_code == 200:\n",
    "        competitions = response.json()[\"competitions\"]\n",
    "        return pd.DataFrame(competitions)\n",
    "    else:\n",
    "        print(f\"Error: {response.status_code}, {response.text}\")\n",
    "        return None\n",
    "\n",
    "competitions_df = fetch_competitions()\n",
    "print(competitions_df[[\"id\", \"name\"]].head())"
   ]
  },
  {
   "cell_type": "code",
   "execution_count": 213,
   "id": "70c5534f-ec7e-4140-adc6-51fffd889424",
   "metadata": {},
   "outputs": [
    {
     "name": "stdout",
     "output_type": "stream",
     "text": [
      "<class 'pandas.core.frame.DataFrame'>\n",
      "RangeIndex: 1140 entries, 0 to 1139\n",
      "Data columns (total 8 columns):\n",
      " #   Column               Non-Null Count  Dtype  \n",
      "---  ------               --------------  -----  \n",
      " 0   utcDate              1140 non-null   object \n",
      " 1   status               1140 non-null   object \n",
      " 2   homeTeam.name        1140 non-null   object \n",
      " 3   awayTeam.name        1140 non-null   object \n",
      " 4   matchday             1140 non-null   int64  \n",
      " 5   season.id            1140 non-null   int64  \n",
      " 6   score.fullTime.home  918 non-null    float64\n",
      " 7   score.fullTime.away  918 non-null    float64\n",
      "dtypes: float64(2), int64(2), object(4)\n",
      "memory usage: 71.4+ KB\n",
      "None\n",
      "          matchday    season.id  score.fullTime.home  score.fullTime.away\n",
      "count  1140.000000  1140.000000           918.000000           918.000000\n",
      "mean     19.500000  1791.000000             1.476035             1.117647\n",
      "std      10.970669   355.667866             1.260495             1.072759\n",
      "min       1.000000  1504.000000             0.000000             0.000000\n",
      "25%      10.000000  1504.000000             1.000000             0.000000\n",
      "50%      19.500000  1577.000000             1.000000             1.000000\n",
      "75%      29.000000  2292.000000             2.000000             2.000000\n",
      "max      38.000000  2292.000000             7.000000             7.000000\n",
      "                   utcDate     status              homeTeam.name  \\\n",
      "0      2020-09-12 15:00:00   FINISHED                      Eibar   \n",
      "1      2020-09-12 17:30:00   FINISHED                 Granada CF   \n",
      "2      2020-09-12 20:00:00   FINISHED                   Cádiz CF   \n",
      "3      2020-09-13 13:00:00   FINISHED           Deportivo Alavés   \n",
      "4      2020-09-13 15:00:00   FINISHED         Real Valladolid CF   \n",
      "...                    ...        ...                        ...   \n",
      "1895  2025-05-25T00:00:00Z  SCHEDULED                  Girona FC   \n",
      "1896  2025-05-25T00:00:00Z  SCHEDULED              Villarreal CF   \n",
      "1897  2025-05-25T00:00:00Z  SCHEDULED   Rayo Vallecano de Madrid   \n",
      "1898  2025-05-25T00:00:00Z  SCHEDULED             Real Madrid CF   \n",
      "1899  2025-05-25T00:00:00Z  SCHEDULED  RCD Espanyol de Barcelona   \n",
      "\n",
      "                awayTeam.name  matchday  season.id  score.fullTime.home  \\\n",
      "0            RC Celta de Vigo         0       1000                  0.0   \n",
      "1               Athletic Club         0       1000                  2.0   \n",
      "2                  CA Osasuna         0       1000                  0.0   \n",
      "3         Real Betis Balompié         0       1000                  0.0   \n",
      "4     Real Sociedad de Fútbol         0       1000                  1.0   \n",
      "...                       ...       ...        ...                  ...   \n",
      "1895  Club Atlético de Madrid        38       2292                  NaN   \n",
      "1896               Sevilla FC        38       2292                  NaN   \n",
      "1897             RCD Mallorca        38       2292                  NaN   \n",
      "1898  Real Sociedad de Fútbol        38       2292                  NaN   \n",
      "1899            UD Las Palmas        38       2292                  NaN   \n",
      "\n",
      "      score.fullTime.away  \n",
      "0                     0.0  \n",
      "1                     0.0  \n",
      "2                     2.0  \n",
      "3                     1.0  \n",
      "4                     1.0  \n",
      "...                   ...  \n",
      "1895                  NaN  \n",
      "1896                  NaN  \n",
      "1897                  NaN  \n",
      "1898                  NaN  \n",
      "1899                  NaN  \n",
      "\n",
      "[1900 rows x 8 columns]\n"
     ]
    },
    {
     "data": {
      "text/plain": [
       "'\\n# Extract unique values\\nunique_values_df1 = selected_df[\\'homeTeam.name\\'].unique()\\nunique_values_df2 = df3[\\'homeTeam.name\\'].unique()\\n\\n# Compare unique values using sets\\nif set(unique_values_df1) == set(unique_values_df2):\\n    print(\"All values in both columns are identical.\")\\nelse:\\n    print(\"There are differences in the values between the two columns.\")\\n    # Find the differences\\n    differences = set(unique_values_df1).symmetric_difference(set(unique_values_df2))\\n    print(\"Differences:\", differences)\\n'"
      ]
     },
     "execution_count": 213,
     "metadata": {},
     "output_type": "execute_result"
    }
   ],
   "source": [
    "#df_predict = df[df['status'] == 'FINISHED']\n",
    "#df = df[df['status'] == 'FINISHED']\n",
    "# Select relevant columns\n",
    "selected_df = df.loc[:, [\"utcDate\", \"status\", \"homeTeam.name\", \"awayTeam.name\", \"matchday\", \"season.id\", \"score.fullTime.home\",\n",
    "                         \"score.fullTime.away\"]]\n",
    "\n",
    "print(selected_df.info())\n",
    "print(selected_df.describe())\n",
    "\n",
    "# Read previous seasons\n",
    "df2 = pd.read_csv('la_liga_2021.csv')\n",
    "df3 = pd.read_csv('la_liga_2022.csv')\n",
    "\n",
    "df2 = df2.loc[:, [\"Date\", \"Time\", \"HomeTeam\", \"AwayTeam\", \"FTHG\", \"FTAG\"]]\n",
    "df2 = df2.assign(matchday=0)\n",
    "df2 = df2.assign(status='FINISHED')\n",
    "df2 = df2.assign(season_id=1000)\n",
    "df2['utcDate'] = pd.to_datetime(df2['Date'] + ' ' + df2['Time'], format='%d/%m/%Y %H:%M')\n",
    "# Select and rename columns\n",
    "df2 = df2[[\"utcDate\", \"status\", \"HomeTeam\", \"AwayTeam\", \"matchday\", \"season_id\", \"FTHG\", \"FTAG\"]].rename(columns={'HomeTeam': 'homeTeam.name',\n",
    "                'AwayTeam': 'awayTeam.name', 'season_id': 'season.id', 'FTHG': 'score.fullTime.home', 'FTAG': 'score.fullTime.away'})\n",
    "# Create a mapping dictionary\n",
    "mapping = {'Sociedad': 'Real Sociedad de Fútbol', 'Barcelona': 'FC Barcelona', 'Villarreal': 'Villarreal CF', 'Valencia': 'Valencia CF',\n",
    "          'Ath Bilbao': 'Athletic Club', 'Real Madrid': 'Real Madrid CF', 'Ath Madrid': 'Club Atlético de Madrid', 'Celta': 'RC Celta de Vigo',\n",
    "          'Mallorca': 'RCD Mallorca', 'Osasuna': 'CA Osasuna', 'Granada': 'Granada CF', 'Getafe': 'Getafe CF',\n",
    "          'Espanol': 'RCD Espanyol de Barcelona', 'Sevilla': 'Sevilla FC', 'Betis': 'Real Betis Balompié', 'Cadiz': 'Cádiz CF',\n",
    "          'Vallecano': 'Rayo Vallecano de Madrid', 'Elche': 'Elche CF', 'Alaves': 'Deportivo Alavés', 'Valladolid': 'Real Valladolid CF'}\n",
    "# Replace names using the mapping dictionary\n",
    "df2['homeTeam.name'] = df2['homeTeam.name'].replace(mapping)\n",
    "df2['awayTeam.name'] = df2['awayTeam.name'].replace(mapping)\n",
    "\n",
    "\n",
    "df3 = df3.loc[:, [\"Date\", \"Time\", \"HomeTeam\", \"AwayTeam\", \"FTHG\", \"FTAG\"]]\n",
    "df3 = df3.assign(matchday=0)\n",
    "df3 = df3.assign(status='FINISHED')\n",
    "df3 = df3.assign(season_id=1000)\n",
    "df3['utcDate'] = pd.to_datetime(df3['Date'] + ' ' + df3['Time'], format='%d/%m/%Y %H:%M')\n",
    "# Select and rename columns\n",
    "df3 = df3[[\"utcDate\", \"status\", \"HomeTeam\", \"AwayTeam\", \"matchday\", \"season_id\", \"FTHG\", \"FTAG\"]].rename(columns={'HomeTeam': 'homeTeam.name',\n",
    "                'AwayTeam': 'awayTeam.name', 'season_id': 'season.id', 'FTHG': 'score.fullTime.home', 'FTAG': 'score.fullTime.away'})\n",
    "# Replace names using the mapping dictionary\n",
    "df3['homeTeam.name'] = df3['homeTeam.name'].replace(mapping)\n",
    "df3['awayTeam.name'] = df3['awayTeam.name'].replace(mapping)\n",
    "\n",
    "# Concatenate the DataFrames vertically\n",
    "df_concat = pd.concat([df3, df2, selected_df], ignore_index=True)\n",
    "\n",
    "print(df_concat)\n",
    "\n",
    "df_concat.to_csv(\"la_liga_last_5_seasons.csv\", index=False)\n",
    "\n",
    "\n",
    "\"\"\"\n",
    "# Extract unique values\n",
    "unique_values_df1 = selected_df['homeTeam.name'].unique()\n",
    "unique_values_df2 = df3['homeTeam.name'].unique()\n",
    "\n",
    "# Compare unique values using sets\n",
    "if set(unique_values_df1) == set(unique_values_df2):\n",
    "    print(\"All values in both columns are identical.\")\n",
    "else:\n",
    "    print(\"There are differences in the values between the two columns.\")\n",
    "    # Find the differences\n",
    "    differences = set(unique_values_df1).symmetric_difference(set(unique_values_df2))\n",
    "    print(\"Differences:\", differences)\n",
    "\"\"\""
   ]
  },
  {
   "cell_type": "code",
   "execution_count": 215,
   "id": "6c1a7312-15ef-411a-8392-ccdecbaaa828",
   "metadata": {},
   "outputs": [
    {
     "name": "stdout",
     "output_type": "stream",
     "text": [
      "both_teams_score\n",
      "0    1053\n",
      "1     847\n",
      "Name: count, dtype: int64\n"
     ]
    },
    {
     "data": {
      "text/plain": [
       "<Axes: title={'center': 'Both Teams to Score Distribution'}, xlabel='both_teams_score'>"
      ]
     },
     "execution_count": 215,
     "metadata": {},
     "output_type": "execute_result"
    },
    {
     "data": {
      "image/png": "[encoded data removed]",
      "text/plain": [
       "<Figure size 640x480 with 1 Axes>"
      ]
     },
     "metadata": {},
     "output_type": "display_data"
    }
   ],
   "source": [
    "df_concat[\"both_teams_score\"] = (df_concat[\"score.fullTime.home\"] > 0) & (df_concat[\"score.fullTime.away\"] > 0)\n",
    "df_concat[\"both_teams_score\"] = df_concat[\"both_teams_score\"].astype(int)  # Convert to 0/1\n",
    "# Distribution\n",
    "print(df_concat[\"both_teams_score\"].value_counts())\n",
    "df_concat[\"both_teams_score\"].value_counts(normalize=True).plot(kind=\"bar\", title=\"Both Teams to Score Distribution\")"
   ]
  },
  {
   "cell_type": "code",
   "execution_count": 217,
   "id": "e8bab0f7-6be3-44f2-8f5c-0270ee543879",
   "metadata": {},
   "outputs": [
    {
     "name": "stdout",
     "output_type": "stream",
     "text": [
      "    homeTeam.name  home_goals  away_goals  both_teams_score\n",
      "13        Levante    1.447368    1.578947          0.605263\n",
      "23     UD Almería    1.342105    1.526316          0.605263\n",
      "26  Villarreal CF    1.891566    1.265060          0.589474\n",
      "11     Granada CF    1.245614    1.508772          0.578947\n",
      "7        Elche CF    1.052632    1.280702          0.543860\n"
     ]
    }
   ],
   "source": [
    "# Aggregate stats by team\n",
    "team_stats = df_concat.groupby(\"homeTeam.name\").agg(\n",
    "    home_goals=(\"score.fullTime.home\", \"mean\"),\n",
    "    away_goals=(\"score.fullTime.away\", \"mean\"),\n",
    "    both_teams_score=(\"both_teams_score\", \"mean\")\n",
    ").reset_index()\n",
    "\n",
    "# Sort by both-teams-to-score probability\n",
    "team_stats = team_stats.sort_values(by=\"both_teams_score\", ascending=False)\n",
    "print(team_stats.head())\n",
    "# Consistent conversion to datetime (assuming UTC timezone)\n",
    "df_concat['utcDate'] = pd.to_datetime(df_concat['utcDate'], utc=True)"
   ]
  },
  {
   "cell_type": "code",
   "execution_count": 219,
   "id": "c6c74687-e0e5-434e-bc41-bcc75d5d6515",
   "metadata": {},
   "outputs": [],
   "source": [
    "def calculate_recent_performance(df, n=5):\n",
    "    # Initialize new columns\n",
    "    df[\"home_recent_goals_scored\"] = np.nan\n",
    "    df[\"home_recent_goals_conceded\"] = np.nan\n",
    "    df[\"home_recent_both_teams_score\"] = np.nan\n",
    "    df[\"away_recent_goals_scored\"] = np.nan\n",
    "    df[\"away_recent_goals_conceded\"] = np.nan\n",
    "    df[\"away_recent_both_teams_score\"] = np.nan\n",
    "\n",
    "    # Iterate over unique teams\n",
    "    for team in pd.concat([df[\"homeTeam.name\"], df[\"awayTeam.name\"]]).unique():\n",
    "        team_matches = df[(df[\"homeTeam.name\"] == team) | (df[\"awayTeam.name\"] == team)]\n",
    "        team_matches = team_matches.sort_values(by=\"utcDate\")\n",
    "\n",
    "        # Separate lists for home and away matches\n",
    "        home_goals_scored = []\n",
    "        home_goals_conceded = []\n",
    "        home_both_teams_score = []\n",
    "\n",
    "        away_goals_scored = []\n",
    "        away_goals_conceded = []\n",
    "        away_both_teams_score = []\n",
    "\n",
    "        for idx, match in team_matches.iterrows():\n",
    "            # Calculate rolling averages **excluding the current match**\n",
    "            if match[\"homeTeam.name\"] == team:  # Home match\n",
    "                df.loc[idx, \"home_recent_goals_scored\"] = (\n",
    "                    np.mean(home_goals_scored[-n:]) if home_goals_scored else np.nan\n",
    "                )\n",
    "                df.loc[idx, \"home_recent_goals_conceded\"] = (\n",
    "                    np.mean(home_goals_conceded[-n:]) if home_goals_conceded else np.nan\n",
    "                )\n",
    "                df.loc[idx, \"home_recent_both_teams_score\"] = (\n",
    "                    np.mean(home_both_teams_score[-n:]) if home_both_teams_score else np.nan\n",
    "                )\n",
    "\n",
    "                # Append current match results after calculation\n",
    "                home_goals_scored.append(match[\"score.fullTime.home\"])\n",
    "                home_goals_conceded.append(match[\"score.fullTime.away\"])\n",
    "                home_both_teams_score.append((match[\"score.fullTime.home\"] > 0) and (match[\"score.fullTime.away\"] > 0))\n",
    "\n",
    "            elif match[\"awayTeam.name\"] == team:  # Away match\n",
    "                df.loc[idx, \"away_recent_goals_scored\"] = (\n",
    "                    np.mean(away_goals_scored[-n:]) if away_goals_scored else np.nan\n",
    "                )\n",
    "                df.loc[idx, \"away_recent_goals_conceded\"] = (\n",
    "                    np.mean(away_goals_conceded[-n:]) if away_goals_conceded else np.nan\n",
    "                )\n",
    "                df.loc[idx, \"away_recent_both_teams_score\"] = (\n",
    "                    np.mean(away_both_teams_score[-n:]) if away_both_teams_score else np.nan\n",
    "                )\n",
    "\n",
    "                # Append current match results after calculation\n",
    "                away_goals_scored.append(match[\"score.fullTime.away\"])\n",
    "                away_goals_conceded.append(match[\"score.fullTime.home\"])\n",
    "                away_both_teams_score.append((match[\"score.fullTime.away\"] > 0) and (match[\"score.fullTime.home\"] > 0))\n",
    "\n",
    "    return df\n",
    "\n",
    "\n",
    "\n",
    "df_concat = calculate_recent_performance(df_concat, n=5)"
   ]
  },
  {
   "cell_type": "code",
   "execution_count": 221,
   "id": "4484de2e-08e6-4671-a95a-b293a46b9f87",
   "metadata": {
    "scrolled": true
   },
   "outputs": [
    {
     "name": "stdout",
     "output_type": "stream",
     "text": [
      "                    utcDate    status       homeTeam.name  \\\n",
      "0 2020-09-12 15:00:00+00:00  FINISHED               Eibar   \n",
      "1 2020-09-12 17:30:00+00:00  FINISHED          Granada CF   \n",
      "2 2020-09-12 20:00:00+00:00  FINISHED            Cádiz CF   \n",
      "3 2020-09-13 13:00:00+00:00  FINISHED    Deportivo Alavés   \n",
      "4 2020-09-13 15:00:00+00:00  FINISHED  Real Valladolid CF   \n",
      "\n",
      "             awayTeam.name  matchday  season.id  score.fullTime.home  \\\n",
      "0         RC Celta de Vigo         0       1000                  0.0   \n",
      "1            Athletic Club         0       1000                  2.0   \n",
      "2               CA Osasuna         0       1000                  0.0   \n",
      "3      Real Betis Balompié         0       1000                  0.0   \n",
      "4  Real Sociedad de Fútbol         0       1000                  1.0   \n",
      "\n",
      "   score.fullTime.away  both_teams_score  home_recent_goals_scored  \\\n",
      "0                  0.0                 0                       NaN   \n",
      "1                  0.0                 0                       NaN   \n",
      "2                  2.0                 0                       NaN   \n",
      "3                  1.0                 0                       NaN   \n",
      "4                  1.0                 1                       NaN   \n",
      "\n",
      "   home_recent_goals_conceded  home_recent_both_teams_score  \\\n",
      "0                         NaN                           NaN   \n",
      "1                         NaN                           NaN   \n",
      "2                         NaN                           NaN   \n",
      "3                         NaN                           NaN   \n",
      "4                         NaN                           NaN   \n",
      "\n",
      "   away_recent_goals_scored  away_recent_goals_conceded  \\\n",
      "0                       NaN                         NaN   \n",
      "1                       NaN                         NaN   \n",
      "2                       NaN                         NaN   \n",
      "3                       NaN                         NaN   \n",
      "4                       NaN                         NaN   \n",
      "\n",
      "   away_recent_both_teams_score  \n",
      "0                           NaN  \n",
      "1                           NaN  \n",
      "2                           NaN  \n",
      "3                           NaN  \n",
      "4                           NaN  \n"
     ]
    }
   ],
   "source": [
    "# Rename columns for clarity\n",
    "df_concat.rename(columns={\n",
    "    \"recent_goals_scored\": \"home_recent_goals_scored\",\n",
    "    \"recent_goals_conceded\": \"home_recent_goals_conceded\",\n",
    "    \"recent_both_teams_score\": \"home_recent_both_teams_score\"\n",
    "}, inplace=True)\n",
    "\n",
    "df_concat.rename(columns={\n",
    "    \"recent_goals_scored\": \"away_recent_goals_scored\",\n",
    "    \"recent_goals_conceded\": \"away_recent_goals_conceded\",\n",
    "    \"recent_both_teams_score\": \"away_recent_both_teams_score\"\n",
    "}, inplace=True)\n",
    "\n",
    "print(df_concat.head())"
   ]
  },
  {
   "cell_type": "code",
   "execution_count": 223,
   "id": "d99ad03e-4736-4039-876f-e88994e3fd08",
   "metadata": {},
   "outputs": [],
   "source": [
    "def calculate_recent_btts_between_teams(df, n=5):\n",
    "    # Initialize the new column\n",
    "    df[\"recent_btts_between_teams\"] = np.nan\n",
    "\n",
    "    # Iterate through each match\n",
    "    for idx, match in df.iterrows():\n",
    "        home_team = match[\"homeTeam.name\"]\n",
    "        away_team = match[\"awayTeam.name\"]\n",
    "\n",
    "        # Filter matches involving the same two teams (either home-away or away-home)\n",
    "        head_to_head_matches = df[\n",
    "            ((df[\"homeTeam.name\"] == home_team) & (df[\"awayTeam.name\"] == away_team)) |\n",
    "            ((df[\"homeTeam.name\"] == away_team) & (df[\"awayTeam.name\"] == home_team))\n",
    "        ]\n",
    "\n",
    "        # Sort by date to ensure chronological order\n",
    "        head_to_head_matches = head_to_head_matches.sort_values(by=\"utcDate\")\n",
    "\n",
    "        # Exclude the current match\n",
    "        past_matches = head_to_head_matches[head_to_head_matches[\"utcDate\"] < match[\"utcDate\"]]\n",
    "\n",
    "        # Calculate the BTTS metric for the last `n` matches\n",
    "        if len(past_matches) > 0:\n",
    "            recent_btts = past_matches.tail(n).apply(\n",
    "                lambda x: (x[\"score.fullTime.home\"] > 0) and (x[\"score.fullTime.away\"] > 0),\n",
    "                axis=1\n",
    "            )\n",
    "            df.loc[idx, \"recent_btts_between_teams\"] = recent_btts.mean()  # Proportion of BTTS in recent matches\n",
    "        else:\n",
    "            df.loc[idx, \"recent_btts_between_teams\"] = np.nan  # No past matches available\n",
    "\n",
    "    return df\n",
    "\n",
    "df_concat = calculate_recent_btts_between_teams(df_concat, n=5)"
   ]
  },
  {
   "cell_type": "code",
   "execution_count": 224,
   "id": "30ac0e92-2327-4a8e-b574-b16e2c0de288",
   "metadata": {},
   "outputs": [],
   "source": [
    "def calculate_recent_btts_league(df, n=5):\n",
    "    # Initialize the new column\n",
    "    df[\"recent_btts_league\"] = np.nan\n",
    "\n",
    "    # Sort matches by date\n",
    "    df = df.sort_values(by=\"utcDate\")\n",
    "\n",
    "    # Iterate over each match\n",
    "    for idx, match in df.iterrows():\n",
    "        # Filter for matches played before the current match\n",
    "        past_matches = df[df[\"utcDate\"] < match[\"utcDate\"]]\n",
    "\n",
    "        # Calculate the BTTS rate for the last `n` matches\n",
    "        if len(past_matches) > 0:\n",
    "            recent_btts = past_matches.tail(n).apply(\n",
    "                lambda x: (x[\"score.fullTime.home\"] > 0) and (x[\"score.fullTime.away\"] > 0),\n",
    "                axis=1\n",
    "            )\n",
    "            df.loc[idx, \"recent_btts_league\"] = recent_btts.mean()  # Proportion of BTTS in recent matches\n",
    "        else:\n",
    "            df.loc[idx, \"recent_btts_league\"] = np.nan  # No past matches available\n",
    "\n",
    "    return df\n",
    "\n",
    "df_concat = calculate_recent_btts_league(df_concat, n=5)"
   ]
  },
  {
   "cell_type": "code",
   "execution_count": 226,
   "id": "7041f3da-7da2-4db8-b9e3-80f4ace3d5c3",
   "metadata": {
    "scrolled": true
   },
   "outputs": [
    {
     "name": "stdout",
     "output_type": "stream",
     "text": [
      "        homeTeam.name            awayTeam.name    status  matchday  \\\n",
      "0               Eibar         RC Celta de Vigo  FINISHED         0   \n",
      "1          Granada CF            Athletic Club  FINISHED         0   \n",
      "2            Cádiz CF               CA Osasuna  FINISHED         0   \n",
      "3    Deportivo Alavés      Real Betis Balompié  FINISHED         0   \n",
      "4  Real Valladolid CF  Real Sociedad de Fútbol  FINISHED         0   \n",
      "\n",
      "   both_teams_score  home_recent_both_teams_score  \\\n",
      "0                 0                           NaN   \n",
      "1                 0                           NaN   \n",
      "2                 0                           NaN   \n",
      "3                 0                           NaN   \n",
      "4                 1                           NaN   \n",
      "\n",
      "   away_recent_both_teams_score  recent_btts_between_teams  recent_btts_league  \n",
      "0                           NaN                        NaN                 NaN  \n",
      "1                           NaN                        NaN                 0.0  \n",
      "2                           NaN                        NaN                 0.0  \n",
      "3                           NaN                        NaN                 0.0  \n",
      "4                           NaN                        NaN                 0.0  \n"
     ]
    }
   ],
   "source": [
    "# Select relevant columns\n",
    "selected_df = df_concat.loc[:, [\"homeTeam.name\", \"awayTeam.name\", \"status\", \"matchday\", \"both_teams_score\", \"home_recent_both_teams_score\",\n",
    "                         \"away_recent_both_teams_score\", \"recent_btts_between_teams\", \"recent_btts_league\"]]\n",
    "\n",
    "print(selected_df.head())"
   ]
  },
  {
   "cell_type": "code",
   "execution_count": 229,
   "id": "27622431-073d-433a-a476-2ef166c7421e",
   "metadata": {},
   "outputs": [],
   "source": [
    "selected_df.to_csv(\"la_liga_with_recent_performance.csv\", index=False)"
   ]
  },
  {
   "cell_type": "code",
   "execution_count": 231,
   "id": "0ddd461c-204a-4fe2-88eb-2526e37bb4a1",
   "metadata": {},
   "outputs": [
    {
     "name": "stdout",
     "output_type": "stream",
     "text": [
      "        homeTeam.name            awayTeam.name  both_teams_score  \\\n",
      "0               Eibar         RC Celta de Vigo                 0   \n",
      "1          Granada CF            Athletic Club                 0   \n",
      "2            Cádiz CF               CA Osasuna                 0   \n",
      "3    Deportivo Alavés      Real Betis Balompié                 0   \n",
      "4  Real Valladolid CF  Real Sociedad de Fútbol                 1   \n",
      "\n",
      "   home_recent_both_teams_score  recent_btts_between_teams  \\\n",
      "0                           NaN                        0.5   \n",
      "1                           NaN                        0.5   \n",
      "2                           NaN                        0.5   \n",
      "3                           NaN                        0.5   \n",
      "4                           NaN                        0.5   \n",
      "\n",
      "   away_recent_both_teams_score  recent_btts_league  \n",
      "0                           NaN                 NaN  \n",
      "1                           NaN                 0.0  \n",
      "2                           NaN                 0.0  \n",
      "3                           NaN                 0.0  \n",
      "4                           NaN                 0.0  \n",
      "Number of observations before dropping NAs: 1678\n",
      "Number of observations after dropping NAs: 1637\n",
      "              homeTeam.name     awayTeam.name  both_teams_score  \\\n",
      "15              Valencia CF            Huesca                 1   \n",
      "17      Real Betis Balompié    Real Madrid CF                 1   \n",
      "19                    Eibar     Athletic Club                 1   \n",
      "22       Real Valladolid CF  RC Celta de Vigo                 1   \n",
      "24  Real Sociedad de Fútbol       Valencia CF                 0   \n",
      "\n",
      "    home_recent_both_teams_score  recent_btts_between_teams  \\\n",
      "15                           1.0                        0.5   \n",
      "17                           0.0                        0.5   \n",
      "19                           0.0                        0.5   \n",
      "22                           1.0                        0.5   \n",
      "24                           0.0                        0.5   \n",
      "\n",
      "    away_recent_both_teams_score  recent_btts_league  \n",
      "15                           1.0                 0.2  \n",
      "17                           0.0                 0.4  \n",
      "19                           0.0                 0.6  \n",
      "22                           0.0                 0.8  \n",
      "24                           1.0                 0.8  \n"
     ]
    }
   ],
   "source": [
    "df = pd.read_csv('la_liga_with_recent_performance.csv')\n",
    "\n",
    "# Take game that we want to predict\n",
    "filtered_game = df[ (df[\"homeTeam.name\"] == 'Getafe CF') & (df[\"awayTeam.name\"] == 'RCD Espanyol de Barcelona') & (df[\"matchday\"] == 16) ]\n",
    "\n",
    "# Fill out recent btts between teams with 0.5\n",
    "df['recent_btts_between_teams'] = df['recent_btts_between_teams'].fillna(0.5)\n",
    "\n",
    "# Filter for finished games\n",
    "df = df[df['status'] == 'FINISHED']\n",
    "\n",
    "# Remove matchday and status columns\n",
    "df = df.loc[:, [\"homeTeam.name\", \"awayTeam.name\", \"both_teams_score\", \"home_recent_both_teams_score\",\n",
    "                         \"recent_btts_between_teams\", \"away_recent_both_teams_score\", \"recent_btts_league\"]]\n",
    "\n",
    "# Display the first 5 rows\n",
    "print(df.head())\n",
    "\n",
    "print(\"Number of observations before dropping NAs:\", df.shape[0])\n",
    "\n",
    "# Drop rows with missing values\n",
    "df = df.dropna()\n",
    "\n",
    "# Print the number of observations after dropping NAs\n",
    "print(\"Number of observations after dropping NAs:\", df.shape[0])\n",
    "\n",
    "# Display the first 5 rows\n",
    "print(df.head())"
   ]
  },
  {
   "cell_type": "code",
   "execution_count": 233,
   "id": "a8bd90fb-d6df-4d4e-b2d2-97a13d4d2233",
   "metadata": {},
   "outputs": [],
   "source": [
    "# One-hot encoding for team names\n",
    "df = pd.get_dummies(df, columns=[\"homeTeam.name\", \"awayTeam.name\"], drop_first=True)\n",
    "\n",
    "X = df.drop(columns=[\"both_teams_score\"])\n",
    "y = df[\"both_teams_score\"]"
   ]
  },
  {
   "cell_type": "code",
   "execution_count": 235,
   "id": "7f291d70-0e97-4c9c-a4b7-6514758eeaa0",
   "metadata": {},
   "outputs": [
    {
     "name": "stdout",
     "output_type": "stream",
     "text": [
      "0.5396341463414634\n"
     ]
    }
   ],
   "source": [
    "# Standardize numerical features\n",
    "scaler = StandardScaler()\n",
    "numerical_columns = [\n",
    "    \"home_recent_both_teams_score\",\n",
    "    \"away_recent_both_teams_score\",\n",
    "    \"recent_btts_league\"\n",
    "]\n",
    "X[numerical_columns] = scaler.fit_transform(X[numerical_columns])\n",
    "X_train, X_test, y_train, y_test = train_test_split(X, y, test_size=0.2, random_state=42)\n",
    "\n",
    "# Initialize and train the logistic regression model\n",
    "model = LogisticRegression(random_state=42)\n",
    "model.fit(X_train, y_train)\n",
    "\n",
    "# Evaluate the model\n",
    "accuracy = model.score(X_test, y_test)\n",
    "print(accuracy)"
   ]
  },
  {
   "cell_type": "code",
   "execution_count": 237,
   "id": "0421fb1f-7293-4e75-8e25-0ca6430257c0",
   "metadata": {},
   "outputs": [
    {
     "name": "stdout",
     "output_type": "stream",
     "text": [
      "Confusion Matrix:\n",
      "[[83 76]\n",
      " [75 94]]\n"
     ]
    }
   ],
   "source": [
    "# Predict on the test set\n",
    "y_pred = model.predict(X_test)\n",
    "\n",
    "# Generate the confusion matrix\n",
    "conf_matrix = confusion_matrix(y_test, y_pred)\n",
    "print(\"Confusion Matrix:\")\n",
    "print(conf_matrix)"
   ]
  },
  {
   "cell_type": "code",
   "execution_count": 239,
   "id": "7d90a888-d84c-44af-bb48-400688c08246",
   "metadata": {},
   "outputs": [
    {
     "name": "stdout",
     "output_type": "stream",
     "text": [
      "                                    Feature  Coefficient\n",
      "44  awayTeam.name_RCD Espanyol de Barcelona     0.936801\n",
      "29              homeTeam.name_Villarreal CF     0.934488\n",
      "18  homeTeam.name_RCD Espanyol de Barcelona     0.920902\n",
      "31                 awayTeam.name_CD Leganés     0.702623\n",
      "13                  homeTeam.name_Girona FC     0.656111\n",
      "14                 homeTeam.name_Granada CF     0.602542\n",
      "26                 homeTeam.name_UD Almería     0.580313\n",
      "52                 awayTeam.name_UD Almería     0.546477\n",
      "16                    homeTeam.name_Levante     0.520496\n",
      "28                homeTeam.name_Valencia CF     0.455258\n",
      "35                      awayTeam.name_Eibar     0.424794\n",
      "17           homeTeam.name_RC Celta de Vigo     0.416336\n",
      "39                  awayTeam.name_Girona FC     0.397376\n",
      "20   homeTeam.name_Rayo Vallecano de Madrid     0.326260\n",
      "10                   homeTeam.name_Elche CF     0.307269\n",
      "40                 awayTeam.name_Granada CF     0.301992\n",
      "55              awayTeam.name_Villarreal CF     0.284465\n",
      "42                    awayTeam.name_Levante     0.276937\n",
      "27              homeTeam.name_UD Las Palmas     0.263185\n",
      "37               awayTeam.name_FC Barcelona     0.218927\n",
      "48             awayTeam.name_Real Madrid CF     0.216779\n",
      "21        homeTeam.name_Real Betis Balompié     0.193768\n",
      "54                awayTeam.name_Valencia CF     0.180088\n",
      "51                 awayTeam.name_Sevilla FC     0.121997\n",
      "25                 homeTeam.name_Sevilla FC     0.099779\n",
      "6     homeTeam.name_Club Atlético de Madrid     0.086091\n",
      "43           awayTeam.name_RC Celta de Vigo     0.076445\n",
      "34           awayTeam.name_Deportivo Alavés     0.071680\n",
      "3                        recent_btts_league     0.011886\n",
      "22             homeTeam.name_Real Madrid CF    -0.002099\n",
      "8            homeTeam.name_Deportivo Alavés    -0.035107\n",
      "50         awayTeam.name_Real Valladolid CF    -0.036834\n",
      "4                  homeTeam.name_CA Osasuna    -0.036866\n",
      "24         homeTeam.name_Real Valladolid CF    -0.045908\n",
      "1                 recent_btts_between_teams    -0.055023\n",
      "36                   awayTeam.name_Elche CF    -0.056973\n",
      "53              awayTeam.name_UD Las Palmas    -0.071808\n",
      "47        awayTeam.name_Real Betis Balompié    -0.103027\n",
      "2              away_recent_both_teams_score    -0.106459\n",
      "41                     awayTeam.name_Huesca    -0.114309\n",
      "11               homeTeam.name_FC Barcelona    -0.132458\n",
      "15                     homeTeam.name_Huesca    -0.167503\n",
      "0              home_recent_both_teams_score    -0.171888\n",
      "30                 awayTeam.name_CA Osasuna    -0.228165\n",
      "33                   awayTeam.name_Cádiz CF    -0.279680\n",
      "23    homeTeam.name_Real Sociedad de Fútbol    -0.291614\n",
      "7                    homeTeam.name_Cádiz CF    -0.315331\n",
      "45               awayTeam.name_RCD Mallorca    -0.340729\n",
      "49    awayTeam.name_Real Sociedad de Fútbol    -0.348559\n",
      "19               homeTeam.name_RCD Mallorca    -0.381847\n",
      "38                  awayTeam.name_Getafe CF    -0.415869\n",
      "46   awayTeam.name_Rayo Vallecano de Madrid    -0.463433\n",
      "32    awayTeam.name_Club Atlético de Madrid    -0.488843\n",
      "12                  homeTeam.name_Getafe CF    -0.692164\n",
      "9                       homeTeam.name_Eibar    -0.848662\n",
      "5                  homeTeam.name_CD Leganés    -1.447214\n"
     ]
    }
   ],
   "source": [
    "# Access model coefficients\n",
    "coefficients = model.coef_[0]  # Coefficients for logistic regression\n",
    "features = X_train.columns\n",
    "\n",
    "# Create a DataFrame for easy interpretation\n",
    "importance_df = pd.DataFrame({\n",
    "    \"Feature\": features,\n",
    "    \"Coefficient\": coefficients\n",
    "}).sort_values(by=\"Coefficient\", ascending=False)\n",
    "\n",
    "print(importance_df)"
   ]
  },
  {
   "cell_type": "code",
   "execution_count": 241,
   "id": "9130085c-6c32-466b-89c8-7211dea5a174",
   "metadata": {},
   "outputs": [
    {
     "name": "stdout",
     "output_type": "stream",
     "text": [
      "Baseline Accuracy: 0.52\n"
     ]
    }
   ],
   "source": [
    "baseline_accuracy = y_test.value_counts(normalize=True).max()\n",
    "print(f\"Baseline Accuracy: {baseline_accuracy:.2f}\")"
   ]
  },
  {
   "cell_type": "code",
   "execution_count": 243,
   "id": "28d726b1-9119-43a3-ab15-4a9e4dd2d3eb",
   "metadata": {},
   "outputs": [
    {
     "name": "stdout",
     "output_type": "stream",
     "text": [
      "     homeTeam.name              awayTeam.name status  matchday  \\\n",
      "1679     Getafe CF  RCD Espanyol de Barcelona  TIMED        16   \n",
      "\n",
      "      both_teams_score  home_recent_both_teams_score  \\\n",
      "1679                 0                           0.4   \n",
      "\n",
      "      away_recent_both_teams_score  recent_btts_between_teams  \\\n",
      "1679                           0.8                        0.5   \n",
      "\n",
      "      recent_btts_league  \n",
      "1679                 0.4  \n",
      "Predicted Both Teams to Score (BTTS): False\n",
      "Prediction Probability: [0.53829694 0.46170306]\n"
     ]
    }
   ],
   "source": [
    "# Predict the following game\n",
    "print(filtered_game)\n",
    "# Remove matchday and status columns\n",
    "filtered_game = filtered_game.loc[:, [\"homeTeam.name\", \"awayTeam.name\", \"both_teams_score\", \"home_recent_both_teams_score\",\n",
    "                         \"recent_btts_between_teams\", \"away_recent_both_teams_score\", \"recent_btts_league\"]]\n",
    "\n",
    "# One-hot encoding for team names in the filtered game\n",
    "filtered_game_encoded = pd.get_dummies(filtered_game, columns=[\"homeTeam.name\", \"awayTeam.name\"], drop_first=True)\n",
    "\n",
    "# Align the filtered_game_encoded columns with the training data\n",
    "filtered_game_encoded = filtered_game_encoded.reindex(columns=X.columns, fill_value=0)\n",
    "\n",
    "# Standardize numerical features using the previously fitted scaler\n",
    "numerical_columns = [\n",
    "    \"home_recent_both_teams_score\",\n",
    "    \"away_recent_both_teams_score\",\n",
    "    \"recent_btts_league\"\n",
    "]\n",
    "\n",
    "filtered_game_encoded[numerical_columns] = scaler.transform(filtered_game_encoded[numerical_columns])\n",
    "\n",
    "# Predict the outcome using the logistic regression model\n",
    "prediction = model.predict(filtered_game_encoded)\n",
    "prediction_proba = model.predict_proba(filtered_game_encoded)\n",
    "\n",
    "# Display the prediction\n",
    "print(f\"Predicted Both Teams to Score (BTTS): {bool(prediction[0])}\")\n",
    "print(f\"Prediction Probability: {prediction_proba[0]}\")"
   ]
  },
  {
   "cell_type": "code",
   "execution_count": 245,
   "id": "a0f6801b-53d3-41da-b058-6c82dc208e3f",
   "metadata": {},
   "outputs": [
    {
     "name": "stdout",
     "output_type": "stream",
     "text": [
      "Decision Tree Accuracy: 0.50\n"
     ]
    }
   ],
   "source": [
    "from sklearn.tree import DecisionTreeClassifier\n",
    "\n",
    "# Initialize the Decision Tree model\n",
    "dt_model = DecisionTreeClassifier(random_state=42)\n",
    "\n",
    "# Train the model\n",
    "dt_model.fit(X_train, y_train)\n",
    "\n",
    "# Evaluate the model\n",
    "dt_accuracy = dt_model.score(X_test, y_test)\n",
    "print(f\"Decision Tree Accuracy: {dt_accuracy:.2f}\")"
   ]
  },
  {
   "cell_type": "code",
   "execution_count": 247,
   "id": "039eeac8-b40d-489b-bcf5-8c035e756f62",
   "metadata": {},
   "outputs": [
    {
     "name": "stdout",
     "output_type": "stream",
     "text": [
      "Random Forest Accuracy: 0.51\n"
     ]
    }
   ],
   "source": [
    "from sklearn.ensemble import RandomForestClassifier\n",
    "\n",
    "# Initialize the Random Forest model\n",
    "rf_model = RandomForestClassifier(n_estimators=100, random_state=42)\n",
    "\n",
    "# Train the model\n",
    "rf_model.fit(X_train, y_train)\n",
    "\n",
    "# Evaluate the model\n",
    "rf_accuracy = rf_model.score(X_test, y_test)\n",
    "print(f\"Random Forest Accuracy: {rf_accuracy:.2f}\")"
   ]
  },
  {
   "cell_type": "code",
   "execution_count": 255,
   "id": "8cf54a9b-40c6-47db-8652-16244fdaacaf",
   "metadata": {},
   "outputs": [
    {
     "name": "stdout",
     "output_type": "stream",
     "text": [
      "k-NN Accuracy: 0.52\n"
     ]
    }
   ],
   "source": [
    "from sklearn.neighbors import KNeighborsClassifier\n",
    "from sklearn.metrics import accuracy_score\n",
    "\n",
    "# Initialize the k-NN model\n",
    "knn_model = KNeighborsClassifier(n_neighbors=5)\n",
    "\n",
    "# Train the model\n",
    "knn_model.fit(X_train, y_train)\n",
    "\n",
    "# Predict and evaluate\n",
    "y_pred_knn = knn_model.predict(X_test)\n",
    "knn_accuracy = accuracy_score(y_test, y_pred_knn)\n",
    "print(f\"k-NN Accuracy: {knn_accuracy:.2f}\")"
   ]
  },
  {
   "cell_type": "code",
   "execution_count": 257,
   "id": "db6554a6-963e-4bce-8ddf-d6608bf96120",
   "metadata": {},
   "outputs": [
    {
     "name": "stdout",
     "output_type": "stream",
     "text": [
      "SVM Accuracy: 0.52\n"
     ]
    }
   ],
   "source": [
    "from sklearn.svm import SVC\n",
    "\n",
    "# Initialize the SVM model\n",
    "svm_model = SVC(probability=True, random_state=42)\n",
    "\n",
    "# Train the model\n",
    "svm_model.fit(X_train, y_train)\n",
    "\n",
    "# Predict and evaluate\n",
    "y_pred_svm = svm_model.predict(X_test)\n",
    "svm_accuracy = accuracy_score(y_test, y_pred_svm)\n",
    "print(f\"SVM Accuracy: {svm_accuracy:.2f}\")"
   ]
  },
  {
   "cell_type": "code",
   "execution_count": null,
   "id": "5039c2d4-568c-4768-a96f-08396e1c20de",
   "metadata": {},
   "outputs": [],
   "source": []
  }
 ],
 "metadata": {
  "kernelspec": {
   "display_name": "Python 3 (ipykernel)",
   "language": "python",
   "name": "python3"
  },
  "language_info": {
   "codemirror_mode": {
    "name": "ipython",
    "version": 3
   },
   "file_extension": ".py",
   "mimetype": "text/x-python",
   "name": "python",
   "nbconvert_exporter": "python",
   "pygments_lexer": "ipython3",
   "version": "3.12.4"
  }
 },
 "nbformat": 4,
 "nbformat_minor": 5
}
